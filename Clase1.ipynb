{
  "cells": [
    {
      "cell_type": "markdown",
      "source": [
        "# Zen of Python"
      ],
      "metadata": {}
    },
    {
      "cell_type": "code",
      "source": [
        "import this"
      ],
      "outputs": [
        {
          "output_type": "stream",
          "name": "stdout",
          "text": [
            "The Zen of Python, by Tim Peters\n",
            "\n",
            "Beautiful is better than ugly.\n",
            "Explicit is better than implicit.\n",
            "Simple is better than complex.\n",
            "Complex is better than complicated.\n",
            "Flat is better than nested.\n",
            "Sparse is better than dense.\n",
            "Readability counts.\n",
            "Special cases aren't special enough to break the rules.\n",
            "Although practicality beats purity.\n",
            "Errors should never pass silently.\n",
            "Unless explicitly silenced.\n",
            "In the face of ambiguity, refuse the temptation to guess.\n",
            "There should be one-- and preferably only one --obvious way to do it.\n",
            "Although that way may not be obvious at first unless you're Dutch.\n",
            "Now is better than never.\n",
            "Although never is often better than *right* now.\n",
            "If the implementation is hard to explain, it's a bad idea.\n",
            "If the implementation is easy to explain, it may be a good idea.\n",
            "Namespaces are one honking great idea -- let's do more of those!\n"
          ]
        }
      ],
      "execution_count": 1,
      "metadata": {
        "collapsed": false,
        "outputHidden": false,
        "inputHidden": false
      }
    },
    {
      "cell_type": "markdown",
      "source": [
        "### PEP8 Rules\n",
        "\n",
        "https://realpython.com/python-pep8/\n"
      ],
      "metadata": {}
    },
    {
      "cell_type": "markdown",
      "source": [
        "### Explicit is better than implicit."
      ],
      "metadata": {}
    },
    {
      "cell_type": "code",
      "source": [
        "from spam import * \n",
        "from eggs import *\n",
        "\nsome_function()"
      ],
      "outputs": [],
      "execution_count": null,
      "metadata": {
        "collapsed": false,
        "outputHidden": false,
        "inputHidden": false
      }
    },
    {
      "cell_type": "code",
      "source": [
        "import spam\n",
        "import eggs\n",
        "\n",
        "spam.some_function() \n",
        "eggs.some_function()"
      ],
      "outputs": [],
      "execution_count": null,
      "metadata": {
        "collapsed": false,
        "outputHidden": false,
        "inputHidden": false
      }
    },
    {
      "cell_type": "markdown",
      "source": [
        "### Simple is better than complex."
      ],
      "metadata": {}
    },
    {
      "cell_type": "code",
      "source": [
        "import pickle # Or json/yaml\n",
        "With open('data.pickle', 'wb') as fh:\n",
        "\tpickle.dump(data, fh, pickle.HIGHEST_PROTOCOL)"
      ],
      "outputs": [],
      "execution_count": null,
      "metadata": {
        "collapsed": false,
        "outputHidden": false,
        "inputHidden": false
      }
    },
    {
      "cell_type": "code",
      "source": [
        "import sqlite3\n",
        "connection = sqlite3.connect('database.sqlite')\n",
        "cursor = connection.cursor()\n",
        "cursor.execute('CREATE TABLE data (key text, value text)') cursor.execute('''INSERT INTO data VALUES ('key', 'value')''') connection.commit()\n",
        "connection.close()"
      ],
      "outputs": [],
      "execution_count": null,
      "metadata": {
        "collapsed": false,
        "outputHidden": false,
        "inputHidden": false
      }
    },
    {
      "cell_type": "markdown",
      "source": [
        "### Flat is better than nested."
      ],
      "metadata": {}
    },
    {
      "cell_type": "code",
      "source": [
        "def print_matrices():\n",
        "\tfor matrix in matrices:\n",
        "\t\tprint('Matrix:')\n",
        "\t\tfor row in matrix:\n",
        "\t\t\tfor col in row:\n",
        "\t\t\t\tprint(col, end='')\n",
        "\t\t\tprint()\n",
        "\t\tprint()\n"
      ],
      "outputs": [],
      "execution_count": null,
      "metadata": {
        "collapsed": false,
        "outputHidden": false,
        "inputHidden": false
      }
    },
    {
      "cell_type": "code",
      "source": [
        "def print_row(row):\n",
        "\tfor col in row:\n",
        "\t\tprint(col, end='')\n",
        "\n",
        "def print_matrix(matrix):\n",
        "\tfor row in matrix:\n",
        "\t\tprint_row(row)\n",
        "\t\tprint()\n",
        "\n",
        "def print_matrices(matrices):\n",
        "\tfor matrix in matrices:\n",
        "\t\tprint('Matrix:')\n",
        "\t\tprint_matrix(matrix)\n",
        "\t\tprint()"
      ],
      "outputs": [],
      "execution_count": null,
      "metadata": {
        "collapsed": false,
        "outputHidden": false,
        "inputHidden": false
      }
    },
    {
      "cell_type": "markdown",
      "source": [
        "### Sparse is better than dense."
      ],
      "metadata": {}
    },
    {
      "cell_type": "code",
      "source": [
        "def make_eggs(a,b):'while',['technically'];print('correct');\\\n",
        "\t{'this':'is','highly':'unreadable'};print(1-a+b**4/2**2)\n",
        "    \n",
        "make_eggs(1, 2)"
      ],
      "outputs": [
        {
          "output_type": "stream",
          "name": "stdout",
          "text": [
            "correct\n",
            "4.0\n"
          ]
        }
      ],
      "execution_count": 3,
      "metadata": {
        "collapsed": false,
        "outputHidden": false,
        "inputHidden": false
      }
    },
    {
      "cell_type": "code",
      "source": [
        "def make_eggs(a, b):\n",
        "\t'while', ['technically']\n",
        "\tprint('correct')\n",
        "\t{'this': 'is', 'highly': 'unreadable'}\n",
        "\tprint(1 - a + ((b ** 4) / (2 ** 2)))\n",
        "    \n",
        "make_eggs(1, 2)"
      ],
      "outputs": [
        {
          "output_type": "stream",
          "name": "stdout",
          "text": [
            "correct\n",
            "4.0\n"
          ]
        }
      ],
      "execution_count": 67,
      "metadata": {
        "collapsed": false,
        "outputHidden": false,
        "inputHidden": false
      }
    },
    {
      "cell_type": "markdown",
      "source": [
        "### Readability counts.\n",
        "\n",
        "```python\n",
        "fib=lambda n:reduce(lambda x,y:(x[0]+x[1],x[0]),[(1,1)]*(n-2))[0]\n",
        "```\n",
        "\n",
        "```python\n",
        "def fib(n):\n",
        "    a, b = 0, 1\n",
        "\twhile True:\n",
        "\t\tyield a\n",
        "\t\ta, b = b, a + b\n",
        "```"
      ],
      "metadata": {}
    },
    {
      "cell_type": "markdown",
      "source": [
        "### Practicality beats purity\n",
        "\n",
        "\"Special cases aren't special enough to break the rules. Although practicality beats purity.\"\n",
        "\nBreaking the rules can be tempting at times, but it tends to be a slippery slope. Naturally, this applies to all rules. If your quick fix is going to break the rules, you should really try to refactor it immediately. Chances are that you won't have the time to fix it later and will regret it."
      ],
      "metadata": {}
    },
    {
      "cell_type": "markdown",
      "source": [
        "### Errors should never pass silently."
      ],
      "metadata": {}
    },
    {
      "cell_type": "code",
      "source": [
        "try:\n",
        "\tvalue = int(user_input)\n",
        "except:\n",
        "\tpass"
      ],
      "outputs": [],
      "execution_count": null,
      "metadata": {
        "collapsed": false,
        "outputHidden": false,
        "inputHidden": false
      }
    },
    {
      "cell_type": "code",
      "source": [
        "try:\n",
        "\tvalue = int(user_input)\n",
        "except Exception as e:\n",
        "\tlogging.warn('Uncaught exception %r', e)"
      ],
      "outputs": [],
      "execution_count": null,
      "metadata": {
        "collapsed": false,
        "outputHidden": false,
        "inputHidden": false
      }
    },
    {
      "cell_type": "code",
      "source": [
        "try:\n",
        "\tvalue = int(user_input)\n",
        "except ValueError:\n",
        "\tvalue = 0"
      ],
      "outputs": [],
      "execution_count": null,
      "metadata": {
        "collapsed": false,
        "outputHidden": false,
        "inputHidden": false
      }
    },
    {
      "cell_type": "markdown",
      "source": [
        "# Docstrings"
      ],
      "metadata": {
        "collapsed": false,
        "outputHidden": false,
        "inputHidden": false
      }
    },
    {
      "cell_type": "code",
      "source": [
        "def my_function():\n",
        "    \"\"\"Run some computation\"\"\"\n",
        "    return None\n",
        "\n",
        "print(my_function.__doc__)\n",
        "print(\"***************\")\n",
        "my_function??"
      ],
      "outputs": [
        {
          "output_type": "stream",
          "name": "stdout",
          "text": [
            "Run some computation\n",
            "***************\n"
          ]
        }
      ],
      "execution_count": 11,
      "metadata": {
        "collapsed": false,
        "outputHidden": false,
        "inputHidden": false
      }
    },
    {
      "cell_type": "code",
      "source": [
        "dict.update??\n",
        "print(dict.update.__doc__)"
      ],
      "outputs": [
        {
          "output_type": "stream",
          "name": "stdout",
          "text": [
            "D.update([E, ]**F) -> None.  Update D from dict/iterable E and F.\n",
            "If E is present and has a .keys() method, then does:  for k in E: D[k] = E[k]\n",
            "If E is present and lacks a .keys() method, then does:  for k, v in E: D[k] = v\n",
            "In either case, this is followed by: for k in F:  D[k] = F[k]\n"
          ]
        }
      ],
      "execution_count": 57,
      "metadata": {
        "collapsed": false,
        "outputHidden": false,
        "inputHidden": false
      }
    },
    {
      "cell_type": "markdown",
      "source": [
        "# Annotations"
      ],
      "metadata": {}
    },
    {
      "cell_type": "code",
      "source": [
        "class Point:\n",
        "    def __init__(self, lat, long):\n",
        "        self.lat = lat\n",
        "        self.long = long\n",
        "\n",
        "def locate(latitude: float, longitude: float) -> Point:\n",
        "    \"\"\"Find an object in the map by its coordinates\"\"\"\n",
        "    pass\n",
        "    \n",
        "string = \"aasdjkhaskd\"\n",
        "print(string)\n",
        "print(type(string))\n",
        "string = 9\n",
        "print(string)\n",
        "print(type(string))"
      ],
      "outputs": [
        {
          "output_type": "stream",
          "name": "stdout",
          "text": [
            "aasdjkhaskd\n",
            "<class 'str'>\n",
            "9\n",
            "<class 'int'>\n"
          ]
        }
      ],
      "execution_count": 59,
      "metadata": {
        "collapsed": false,
        "outputHidden": false,
        "inputHidden": false
      }
    },
    {
      "cell_type": "code",
      "source": [
        "def data_from_response(response: dict) -> dict:\n",
        "    if response[\"status\"] != 200:\n",
        "        raise ValueError\n",
        "    return {\"data\": response[\"payload\"]}\n",
        "\ndata_from_response({'status': 200, 'payload': \"Escuela.it\"})"
      ],
      "outputs": [
        {
          "output_type": "execute_result",
          "execution_count": 20,
          "data": {
            "text/plain": [
              "{'data': 'Escuela.it'}"
            ]
          },
          "metadata": {}
        }
      ],
      "execution_count": 20,
      "metadata": {
        "collapsed": false,
        "outputHidden": false,
        "inputHidden": false
      }
    },
    {
      "cell_type": "code",
      "source": [
        "def data_from_response(response: dict) -> dict:\n",
        "    \"\"\"If the response is OK, return its payload.\n",
        "\n",
        "    - response: A dict like::\n",
        "    {\n",
        "    \"status\": 200, # <int> \"timestamp\": \"....\", # ISO format string of the current date time \"payload\": { ... } # dict with the returned data\n",
        "    }\n",
        "\n",
        "    - Returns a dictionary like::\n",
        "    {\"data\": { .. } }\n",
        "    \n",
        "    - Raises:\n",
        "        - ValueError if the HTTP status is != 200 \"\"\" \n",
        "    if response[\"status\"] != 200:\n",
        "        raise ValueError\n",
        "    return {\"data\": response[\"payload\"]}\n",
        "\n",
        "data_from_response??\n",
        "data_from_response({'status': 200, 'payload': \"data\"})"
      ],
      "outputs": [
        {
          "output_type": "execute_result",
          "execution_count": 60,
          "data": {
            "text/plain": [
              "{'data': 'data'}"
            ]
          },
          "metadata": {}
        }
      ],
      "execution_count": 60,
      "metadata": {
        "collapsed": false,
        "outputHidden": false,
        "inputHidden": false
      }
    },
    {
      "cell_type": "markdown",
      "source": [
        "# Index and slices"
      ],
      "metadata": {}
    },
    {
      "cell_type": "code",
      "source": [
        "my_numbers = (4, 5, 3, 9)\n",
        "print(my_numbers[-1])\n",
        "print(my_numbers[-3])"
      ],
      "outputs": [
        {
          "output_type": "stream",
          "name": "stdout",
          "text": [
            "9\n",
            "5\n"
          ]
        }
      ],
      "execution_count": 2,
      "metadata": {
        "collapsed": false,
        "outputHidden": false,
        "inputHidden": false
      }
    },
    {
      "cell_type": "code",
      "source": [
        "my_numbers = (1, 1, 2, 3, 5, 8, 13, 21)\n",
        "print(my_numbers[2:5])\n",
        "print(my_numbers[:3])\n",
        "print(my_numbers[3:])\n",
        "print(my_numbers[::])\n",
        "print(my_numbers[1:7:2])"
      ],
      "outputs": [
        {
          "output_type": "stream",
          "name": "stdout",
          "text": [
            "(2, 3, 5)\n",
            "(1, 1, 2)\n",
            "(3, 5, 8, 13, 21)\n",
            "(1, 1, 2, 3, 5, 8, 13, 21)\n",
            "(1, 3, 8)\n"
          ]
        }
      ],
      "execution_count": 63,
      "metadata": {
        "collapsed": false,
        "outputHidden": false,
        "inputHidden": false
      }
    },
    {
      "cell_type": "markdown",
      "source": [
        "## Creating your own sequences"
      ],
      "metadata": {}
    },
    {
      "cell_type": "code",
      "source": [
        "class Items:\n",
        "    def __init__(self, *values):\n",
        "        self._values = list(values)\n",
        "\n",
        "    def __len__(self):\n",
        "        return len(self._values)\n",
        "\n",
        "    def __getitem__(self, item):\n",
        "        return self._values.__getitem__(item)\n",
        "    \n",
        "my_numbers = Items(1, 1, 2, 3, 5, 8, 13, 21)\n",
        "len(my_numbers)\n",
        "\n",
        "print(my_numbers[2:5])\n",
        "print(my_numbers[::])\n",
        "print(my_numbers[1:7:3])"
      ],
      "outputs": [
        {
          "output_type": "stream",
          "name": "stdout",
          "text": [
            "[2, 3, 5]\n",
            "[1, 1, 2, 3, 5, 8, 13, 21]\n",
            "[1, 5]\n"
          ]
        }
      ],
      "execution_count": 65,
      "metadata": {
        "collapsed": false,
        "outputHidden": false,
        "inputHidden": false
      }
    },
    {
      "cell_type": "markdown",
      "source": [
        "## Context managers\n",
        "\n",
        "Context managers are a distinctively useful feature that Python provides. The reason why they are so useful is that they correctly respond to a pattern. The pattern is actually every situation where we want to run some code, and has preconditions and postconditions, meaning that we want to run things before and after a certain main action.\n",
        "\nContext managers consist of two magic methods: `__enter__` and `__exit__`"
      ],
      "metadata": {}
    },
    {
      "cell_type": "code",
      "source": [
        "def stop_database():\n",
        "    run(\"systemctl stop postgresql.service\")\n",
        "\n",
        "def start_database():\n",
        "    run(\"systemctl start postgresql.service\")"
      ],
      "outputs": [],
      "execution_count": null,
      "metadata": {
        "collapsed": false,
        "outputHidden": false,
        "inputHidden": false
      }
    },
    {
      "cell_type": "code",
      "source": [
        "class DBHandler:\n",
        "\n",
        "    def __enter__(self):\n",
        "        stop_database()\n",
        "        return self\n",
        "\n",
        "    def __exit__(self, exc_type, ex_value, ex_traceback):\n",
        "        start_database()\n",
        "\n",
        "    def db_backup():\n",
        "        run(\"pg_dump database\")\n",
        "\n\n",
        "with DBHandler():\n",
        "    db_backup()"
      ],
      "outputs": [],
      "execution_count": null,
      "metadata": {
        "collapsed": false,
        "outputHidden": false,
        "inputHidden": false
      }
    },
    {
      "cell_type": "code",
      "source": [
        "import contextlib\n",
        "\n",
        "@contextlib.contextmanager\n",
        "def db_handler():\n",
        "    stop_database()\n",
        "    yield\n",
        "    start_database()\n",
        "\n",
        "with db_handler():\n",
        "    db_backup()"
      ],
      "outputs": [],
      "execution_count": null,
      "metadata": {
        "collapsed": false,
        "outputHidden": false,
        "inputHidden": false
      }
    },
    {
      "cell_type": "markdown",
      "source": [
        "## Underscores in Python\n",
        "There are some conventions and implementation details that make use of underscores in Python"
      ],
      "metadata": {}
    },
    {
      "cell_type": "code",
      "source": [
        "class Connector:\n",
        "    def __init__(self, source):\n",
        "        self.source = source \n",
        "        self._timeout = 60\n",
        "        \n",
        "connector = Connector('postgresql://localhost')\n",
        "print('source', connector.source)\n",
        "print('_timeout', connector._timeout)\n",
        "connector.__dict__"
      ],
      "outputs": [
        {
          "output_type": "stream",
          "name": "stdout",
          "text": [
            "source postgresql://localhost\n",
            "_timeout 60\n"
          ]
        },
        {
          "output_type": "execute_result",
          "execution_count": 14,
          "data": {
            "text/plain": [
              "{'source': 'postgresql://localhost', '_timeout': 60}"
            ]
          },
          "metadata": {}
        }
      ],
      "execution_count": 14,
      "metadata": {
        "collapsed": false,
        "outputHidden": false,
        "inputHidden": false
      }
    },
    {
      "cell_type": "markdown",
      "source": [
        "The interpretation of this code is that `_timeout` should be accessed only within connector itself and never from a caller."
      ],
      "metadata": {}
    },
    {
      "cell_type": "code",
      "source": [
        "class Connector:\n",
        "    def __init__(self, source):\n",
        "        self.source = source \n",
        "        self.__timeout = 60\n",
        "        \n",
        "    def connect(self):\n",
        "        print(\"connecting with {0} s\".format(self.__timeout)) \n",
        "        \n",
        "connector = Connector('postgresql://localhost')\n",
        "print('source', connector.source)\n",
        "connector.connect()\n",
        "print('source', connector.__timeout)\n",
        "connector.__dict__"
      ],
      "outputs": [
        {
          "output_type": "stream",
          "name": "stdout",
          "text": [
            "source postgresql://localhost\n",
            "connecting with 60 s\n"
          ]
        },
        {
          "output_type": "error",
          "ename": "AttributeError",
          "evalue": "'Connector' object has no attribute '__timeout'",
          "traceback": [
            "\u001b[0;31m---------------------------------------------------------------------------\u001b[0m",
            "\u001b[0;31mAttributeError\u001b[0m                            Traceback (most recent call last)",
            "\u001b[0;32m<ipython-input-20-de16964c1727>\u001b[0m in \u001b[0;36m<module>\u001b[0;34m()\u001b[0m\n\u001b[1;32m     10\u001b[0m \u001b[0mprint\u001b[0m\u001b[0;34m(\u001b[0m\u001b[0;34m'source'\u001b[0m\u001b[0;34m,\u001b[0m \u001b[0mconnector\u001b[0m\u001b[0;34m.\u001b[0m\u001b[0msource\u001b[0m\u001b[0;34m)\u001b[0m\u001b[0;34m\u001b[0m\u001b[0m\n\u001b[1;32m     11\u001b[0m \u001b[0mconnector\u001b[0m\u001b[0;34m.\u001b[0m\u001b[0mconnect\u001b[0m\u001b[0;34m(\u001b[0m\u001b[0;34m)\u001b[0m\u001b[0;34m\u001b[0m\u001b[0m\n\u001b[0;32m---> 12\u001b[0;31m \u001b[0mprint\u001b[0m\u001b[0;34m(\u001b[0m\u001b[0;34m'source'\u001b[0m\u001b[0;34m,\u001b[0m \u001b[0mconnector\u001b[0m\u001b[0;34m.\u001b[0m\u001b[0m__timeout\u001b[0m\u001b[0;34m)\u001b[0m\u001b[0;34m\u001b[0m\u001b[0m\n\u001b[0m\u001b[1;32m     13\u001b[0m \u001b[0mconnector\u001b[0m\u001b[0;34m.\u001b[0m\u001b[0m__dict__\u001b[0m\u001b[0;34m\u001b[0m\u001b[0m\n",
            "\u001b[0;31mAttributeError\u001b[0m: 'Connector' object has no attribute '__timeout'"
          ]
        }
      ],
      "execution_count": 20,
      "metadata": {
        "collapsed": false,
        "outputHidden": false,
        "inputHidden": false
      }
    },
    {
      "cell_type": "markdown",
      "source": [
        "Some developers use this method to hide some attributes, thinking, like in this example, that timeout is now private and that no other object can modify it. Now, take a look at the exception that is raised when trying to access `__timeout`. It's AttributeError, saying that it doesn't exist.\n",
        "\nWhat it does is create the attribute with the following name instead: `\"_<class-name>__<attribute-name>\"`. In this case, an attribute named `'_Connector__timeout'`, will be created, and such an attribute can be accessed (and modified) as follows:"
      ],
      "metadata": {}
    },
    {
      "cell_type": "code",
      "source": [
        "class Connector:\n",
        "    def __init__(self, source):\n",
        "        self.source = source \n",
        "        self.__timeout = 60\n",
        "        \n",
        "    def connect(self):\n",
        "        print(\"connecting with {0} s\".format(self.__timeout)) \n",
        "        \n",
        "connector = Connector('postgresql://localhost')\n",
        "\n",
        "vars(connector)\n",
        "print(connector._Connector__timeout)\n",
        "connector._Connector__timeout = 30\n",
        "connector.connect()\n",
        "connector.__dict__"
      ],
      "outputs": [
        {
          "output_type": "stream",
          "name": "stdout",
          "text": [
            "60\n",
            "connecting with 30 s\n"
          ]
        },
        {
          "output_type": "execute_result",
          "execution_count": 69,
          "data": {
            "text/plain": [
              "{'source': 'postgresql://localhost', '_Connector__timeout': 30}"
            ]
          },
          "metadata": {}
        }
      ],
      "execution_count": 69,
      "metadata": {
        "collapsed": false,
        "outputHidden": false,
        "inputHidden": false
      }
    },
    {
      "cell_type": "markdown",
      "source": [
        "Notice the side effect that we mentioned earlier—the attribute only exists with a different name, and for that reason the AttributeError was raised on our first attempt to access it."
      ],
      "metadata": {}
    },
    {
      "cell_type": "markdown",
      "source": [
        "## Properties\n",
        "\nWhen the object needs to just hold values, we can use regular attributes. Sometimes, we might want to do some computations based on the state of the object and the values of other attributes. Most of the time, properties are a good choice for this."
      ],
      "metadata": {}
    },
    {
      "cell_type": "code",
      "source": [
        "import re\n",
        "\n",
        "EMAIL_FORMAT = re.compile(r\"[^@]+@[^@]+\\.[^@]+\")\n",
        "\n",
        "def is_valid_email(potentially_valid_email: str):\n",
        "    return re.match(EMAIL_FORMAT, potentially_valid_email) is not None\n",
        "\n",
        "class User:\n",
        "\n",
        "    def __init__(self, username):\n",
        "        self.username = username\n",
        "        self._email = None\n",
        "\n",
        "    @property\n",
        "    def email(self):\n",
        "        return self._email\n",
        "\n",
        "    @email.setter\n",
        "    def email(self, new_email):\n",
        "        if not is_valid_email(new_email):\n",
        "            raise ValueError(f\"Can't set {new_email} as it's not a valid email\")\n",
        "        self._email = new_email\n",
        "        \n",
        "u1 = User(\"jsmith\")\n",
        "print(u1)\n",
        "\n",
        "# Not valid email\n",
        "# u1.email = \"jsmith@\"\n",
        "\n",
        "u1.email = \"jsmith@g.co\"\n",
        "print(u1.email)"
      ],
      "outputs": [
        {
          "output_type": "stream",
          "name": "stdout",
          "text": [
            "<__main__.User object at 0x103b2d8d0>\n",
            "jsmith@g.co\n"
          ]
        }
      ],
      "execution_count": 70,
      "metadata": {
        "collapsed": false,
        "outputHidden": false,
        "inputHidden": false
      }
    },
    {
      "cell_type": "markdown",
      "source": [
        "Don't write custom get_* and set_* methods for all attributes on your objects. Most of the time, leaving them as regular attributes is just enough. If you need to modify the logic for when an attribute is retrieved or modified, then use properties."
      ],
      "metadata": {}
    },
    {
      "cell_type": "code",
      "source": [
        "import re\n",
        "\n",
        "EMAIL_FORMAT = re.compile(r\"[^@]+@[^@]+\\.[^@]+\")\n",
        "\n",
        "def is_valid_email(potentially_valid_email: str):\n",
        "    return re.match(EMAIL_FORMAT, potentially_valid_email) is not None\n",
        "\n",
        "class User:\n",
        "\n",
        "    def __init__(self, username):\n",
        "        self.username = username\n",
        "        self._email = None\n",
        "\n",
        "    @property\n",
        "    def email(self):\n",
        "        return self._email\n",
        "\n",
        "    @email.setter\n",
        "    def email(self, new_email):\n",
        "        if not is_valid_email(new_email):\n",
        "            raise ValueError(f\"Can't set {new_email} as it's not a valid email\")\n",
        "        self._email = new_email\n",
        "    \n",
        "    @email.getter\n",
        "    def email(self):\n",
        "        return f\"this is the email: {self._email}\"\n",
        "        \n",
        "u1 = User(\"jsmith\")\n",
        "print(u1)\n",
        "\n",
        "u1.email = \"jsmith@g.co\"\n",
        "print(u1.email)"
      ],
      "outputs": [
        {
          "output_type": "stream",
          "name": "stdout",
          "text": [
            "<__main__.User object at 0x103b2d908>\n",
            "this is the email: jsmith@g.co\n"
          ]
        }
      ],
      "execution_count": 56,
      "metadata": {
        "collapsed": false,
        "outputHidden": false,
        "inputHidden": false
      }
    },
    {
      "cell_type": "markdown",
      "source": [
        "## Iterable objects\n",
        "\n",
        "In Python, we have objects that can be iterated by default. For example, lists, tuples, sets, and dictionaries can not only hold data in the structure we want but also be iterated over a for loop to get those values repeatedly.\n",
        "\n",
        "However, the built-in iterable objects are not the only kind that we can have in a for loop. We could also create our own iterable, with the logic we define for iteration.\n",
        "\n",
        "Iteration works in Python by its own protocol (namely the iteration protocol). When you try to iterate an object in the form for e in myobject:..., what Python checks at a very high level are the following two things, in order:\n",
        "\n",
        "* If the object contains one of the iterator methods `__next__` or `__iter__`\n",
        "* If the object is a sequence and has `__len__` and `__getitem__`"
      ],
      "metadata": {}
    },
    {
      "cell_type": "code",
      "source": [
        "from datetime import timedelta, date\n",
        "\n",
        "class DateRangeIterable:\n",
        "    \"\"\"An iterable that contains its own iterator object.\"\"\"\n",
        "\n",
        "    def __init__(self, start_date, end_date):\n",
        "        self.start_date = start_date \n",
        "        self.end_date = end_date\n",
        "        self._present_day = start_date\n",
        "\n",
        "    def __iter__(self):\n",
        "        return self\n",
        "\n",
        "    def __next__(self):\n",
        "        if self._present_day >= self.end_date:\n",
        "            raise StopIteration \n",
        "        today = self._present_day\n",
        "        self._present_day += timedelta(days=1)\n",
        "        return today\n",
        "\n",
        "for day in DateRangeIterable(date(2019, 3, 26), date(2019, 4, 12)):\n",
        "    print(day)"
      ],
      "outputs": [
        {
          "output_type": "stream",
          "name": "stdout",
          "text": [
            "2019-03-26\n",
            "2019-03-27\n",
            "2019-03-28\n",
            "2019-03-29\n",
            "2019-03-30\n",
            "2019-03-31\n",
            "2019-04-01\n",
            "2019-04-02\n",
            "2019-04-03\n",
            "2019-04-04\n",
            "2019-04-05\n",
            "2019-04-06\n",
            "2019-04-07\n",
            "2019-04-08\n",
            "2019-04-09\n",
            "2019-04-10\n",
            "2019-04-11\n"
          ]
        }
      ],
      "execution_count": 35,
      "metadata": {
        "collapsed": false,
        "outputHidden": false,
        "inputHidden": false
      }
    },
    {
      "cell_type": "code",
      "source": [
        "r = DateRangeIterable(date(2019, 3, 26), date(2019, 3, 29))\n",
        "print(next(r))\n",
        "print(next(r))\n",
        "print(next(r))\n",
        "# print(next(r))"
      ],
      "outputs": [
        {
          "output_type": "stream",
          "name": "stdout",
          "text": [
            "2019-03-26\n",
            "2019-03-27\n",
            "2019-03-28\n"
          ]
        }
      ],
      "execution_count": 39,
      "metadata": {
        "collapsed": false,
        "outputHidden": false,
        "inputHidden": false
      }
    },
    {
      "cell_type": "markdown",
      "source": [
        "This example works, but it has a small problem—once exhausted, the iterable will continue to be empty, hence raising StopIteration. This means that if we use this on two or more consecutive for loops, only the first one will work, while the second one will be empty"
      ],
      "metadata": {}
    },
    {
      "cell_type": "code",
      "source": [
        "r1 = DateRangeIterable(date(2019, 3, 26), date(2019, 3, 29))\n",
        "\", \".join(map(str, r1))\n",
        "\n# print(max(r1))"
      ],
      "outputs": [
        {
          "output_type": "execute_result",
          "execution_count": 41,
          "data": {
            "text/plain": [
              "'2018-01-01, 2018-01-02, 2018-01-03, 2018-01-04'"
            ]
          },
          "metadata": {}
        }
      ],
      "execution_count": 41,
      "metadata": {
        "collapsed": false,
        "outputHidden": false,
        "inputHidden": false
      }
    },
    {
      "cell_type": "code",
      "source": [
        "class DateRangeContainerIterable:\n",
        "\n",
        "\tdef __init__(self, start_date, end_date):\n",
        "\t\tself.start_date = start_date\n",
        "\t\tself.end_date = end_date\n",
        "\n",
        "\tdef __iter__(self):\n",
        "\t\tcurrent_day = self.start_date\n",
        "\t\twhile current_day < self.end_date:\n",
        "\t\t\tyield current_day\n",
        "\t\t\tcurrent_day += timedelta(days=1)\n",
        "            \n",
        "r1 = DateRangeContainerIterable(date(2019, 3, 26), date(2019, 3, 29))\n",
        "\n",
        "print(\", \".join(map(str, r1)))\n",
        "print(max(r1))"
      ],
      "outputs": [
        {
          "output_type": "stream",
          "name": "stdout",
          "text": [
            "2019-03-26, 2019-03-27, 2019-03-28\n",
            "2019-03-28\n"
          ]
        }
      ],
      "execution_count": 45,
      "metadata": {
        "collapsed": false,
        "outputHidden": false,
        "inputHidden": false
      }
    },
    {
      "cell_type": "code",
      "source": [
        "r1 = DateRangeContainerIterable(date(2019, 3, 26), date(2019, 3, 29))\n",
        "r1[0]"
      ],
      "outputs": [
        {
          "output_type": "error",
          "ename": "TypeError",
          "evalue": "'DateRangeContainerIterable' object does not support indexing",
          "traceback": [
            "\u001b[0;31m---------------------------------------------------------------------------\u001b[0m",
            "\u001b[0;31mTypeError\u001b[0m                                 Traceback (most recent call last)",
            "\u001b[0;32m<ipython-input-46-fe2fea0f0ed7>\u001b[0m in \u001b[0;36m<module>\u001b[0;34m()\u001b[0m\n\u001b[1;32m      1\u001b[0m \u001b[0mr1\u001b[0m \u001b[0;34m=\u001b[0m \u001b[0mDateRangeContainerIterable\u001b[0m\u001b[0;34m(\u001b[0m\u001b[0mdate\u001b[0m\u001b[0;34m(\u001b[0m\u001b[0;36m2019\u001b[0m\u001b[0;34m,\u001b[0m \u001b[0;36m3\u001b[0m\u001b[0;34m,\u001b[0m \u001b[0;36m26\u001b[0m\u001b[0;34m)\u001b[0m\u001b[0;34m,\u001b[0m \u001b[0mdate\u001b[0m\u001b[0;34m(\u001b[0m\u001b[0;36m2019\u001b[0m\u001b[0;34m,\u001b[0m \u001b[0;36m3\u001b[0m\u001b[0;34m,\u001b[0m \u001b[0;36m29\u001b[0m\u001b[0;34m)\u001b[0m\u001b[0;34m)\u001b[0m\u001b[0;34m\u001b[0m\u001b[0m\n\u001b[0;32m----> 2\u001b[0;31m \u001b[0mr1\u001b[0m\u001b[0;34m[\u001b[0m\u001b[0;36m0\u001b[0m\u001b[0;34m]\u001b[0m\u001b[0;34m\u001b[0m\u001b[0m\n\u001b[0m",
            "\u001b[0;31mTypeError\u001b[0m: 'DateRangeContainerIterable' object does not support indexing"
          ]
        }
      ],
      "execution_count": 46,
      "metadata": {
        "collapsed": false,
        "outputHidden": false,
        "inputHidden": false
      }
    },
    {
      "cell_type": "markdown",
      "source": [
        "## Creating your own sequence\n",
        "\nA sequence is an object that implements `__len__` and `__getitem__` and expects to be able to get the elements it contains, one at a time, in order, starting at zero as the first index."
      ],
      "metadata": {}
    },
    {
      "cell_type": "code",
      "source": [
        "class DateRangeSequence:\n",
        "\n",
        "    def __init__(self, start_date, end_date):\n",
        "        self.start_date = start_date\n",
        "        self.end_date = end_date\n",
        "        self._range = self._create_range()\n",
        "\n",
        "    def _create_range(self):\n",
        "        days = []\n",
        "        current_day = self.start_date\n",
        "        while current_day < self.end_date:\n",
        "            days.append(current_day)\n",
        "            current_day += timedelta(days=1)\n",
        "        return days\n",
        "\n",
        "    def __getitem__(self, day_no):\n",
        "        return self._range[day_no]\n",
        "    \n",
        "    def __len__(self):\n",
        "        return len(self._range)"
      ],
      "outputs": [],
      "execution_count": 51,
      "metadata": {
        "collapsed": false,
        "outputHidden": false,
        "inputHidden": false
      }
    },
    {
      "cell_type": "code",
      "source": [
        "r1 = DateRangeSequence(date(2019, 3, 26), date(2019, 3, 29))\n",
        "print(\", \".join(map(str, r1)))\n",
        "print(max(r1))\n",
        "print(r1[0])\n",
        "print(r1[-1])"
      ],
      "outputs": [
        {
          "output_type": "stream",
          "name": "stdout",
          "text": [
            "2019-03-26, 2019-03-27, 2019-03-28\n",
            "2019-03-28\n",
            "2019-03-26\n",
            "2019-03-28\n"
          ]
        }
      ],
      "execution_count": 53,
      "metadata": {
        "collapsed": false,
        "outputHidden": false,
        "inputHidden": false
      }
    },
    {
      "cell_type": "markdown",
      "source": [
        "## Format strings\n",
        "\n",
        "more examples at: \n",
        "\n",
        "https://pyformat.info\n",
        "\nhttps://realpython.com/python-f-strings/"
      ],
      "metadata": {}
    },
    {
      "cell_type": "code",
      "source": [
        "print('{} {}'.format('one', 'two'))\n",
        "print('{} {}'.format(1, 2))\n",
        "print('{1} {0}'.format('one', 'two'))\n",
        "\n",
        "# String Representation\n",
        "class Data(object):\n",
        "\n",
        "    def __str__(self):\n",
        "        return 'str'\n",
        "\n",
        "    def __repr__(self):\n",
        "        return 'repr'\n",
        "\n",
        "print('{0!s} {0!r}'.format(Data()))\n",
        "\n",
        "# Ascii Representation\n",
        "class Data(object):\n",
        "\n",
        "    def __repr__(self):\n",
        "        return 'räpr'\n",
        "    \n",
        "print('{0!r} {0!a}'.format(Data()))\n",
        "\n",
        "# Padding values\n",
        "print('{:>10}'.format('test')) # Padding left\n",
        "print('{:10}'.format('test')) # Padding right\n",
        "print('{:_<10}'.format('test')) # Padding right with character\n",
        "print('{:_>10}'.format('test')) # Padding left with character\n",
        "print('{:^10}'.format('test')) # Center padding\n",
        "print('{:_^10}'.format('test')) # Center padding with character\n",
        "\n",
        "# Truncate long strings\n",
        "print('{:.5}'.format('xylophone'))\n",
        "\n",
        "# Format numbers\n",
        "print('{:d}'.format(42)) # Format as int\n",
        "print('{:f}'.format(3.141592653589793)) # Format as float\n",
        "print('{:>10d}'.format(42)) # Padding numbers\n",
        "print('{:_>10d}'.format(42)) # Padding numbers\n",
        "print('{:_>6.2f}'.format(3.141592653589793)) # Padding numbers\n",
        "print('{:0>6.2f}'.format(3.141592653589793)) # Padding numbers\n",
        "print('{:06.2f}'.format(3.141592653589793)) # Padding numbers\n",
        "print('{:010.2f}'.format(3.141592653589793)) # Padding numbers\n",
        "print('{:+d}'.format(42)) # Signed numbers\n",
        "print('{:+d}'.format(-42)) # Signed numbers\n",
        "print('{: d}'.format((23))) # Signed numbers\n",
        "print('{: d}'.format((-23))) # Signed numbers\n",
        "\n",
        "# Place holders\n",
        "data = {'first': 'Hodor', 'last': 'Hodor!'}\n",
        "print('{first} {last}'.format(**data))\n",
        "\n",
        "person = {'first': 'Jean-Luc', 'last': 'Picard'}\n",
        "print('{p[first]} {p[last]}'.format(p=person))\n",
        "\n",
        "class Plant(object):\n",
        "    type = 'tree'\n",
        "    \n",
        "print('{p.type}'.format(p=Plant()))"
      ],
      "outputs": [],
      "execution_count": null,
      "metadata": {
        "collapsed": false,
        "outputHidden": false,
        "inputHidden": false
      }
    }
  ],
  "metadata": {
    "kernel_info": {
      "name": "python3"
    },
    "language_info": {
      "name": "python",
      "version": "3.6.4",
      "mimetype": "text/x-python",
      "codemirror_mode": {
        "name": "ipython",
        "version": 3
      },
      "pygments_lexer": "ipython3",
      "nbconvert_exporter": "python",
      "file_extension": ".py"
    },
    "kernelspec": {
      "name": "python3",
      "language": "python",
      "display_name": "Python 3"
    },
    "nteract": {
      "version": "0.12.3"
    }
  },
  "nbformat": 4,
  "nbformat_minor": 4
}